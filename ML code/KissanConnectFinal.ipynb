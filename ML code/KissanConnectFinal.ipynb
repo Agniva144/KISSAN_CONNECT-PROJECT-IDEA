{
  "cells": [
    {
      "cell_type": "markdown",
      "metadata": {
        "id": "a_9Q2B2RrnR8"
      },
      "source": [
        "Import Library\n"
      ]
    },
    {
      "cell_type": "code",
      "execution_count": null,
      "metadata": {
        "id": "3j5SYNUZrp7J"
      },
      "outputs": [],
      "source": [
        "import pandas as pd\n",
        "import tensorflow as tf\n",
        "from sklearn.preprocessing import LabelEncoder\n",
        "from sklearn.model_selection import train_test_split"
      ]
    },
    {
      "cell_type": "markdown",
      "metadata": {
        "id": "SWMeB_pZr6Kk"
      },
      "source": [
        "Load Dataset"
      ]
    },
    {
      "cell_type": "code",
      "execution_count": null,
      "metadata": {
        "colab": {
          "base_uri": "https://localhost:8080/",
          "height": 73
        },
        "id": "oNCb5iWxr8CT",
        "outputId": "d85f5f69-b3b7-419d-bb7b-de0f6fcd0936"
      },
      "outputs": [
        {
          "output_type": "display_data",
          "data": {
            "text/plain": [
              "<IPython.core.display.HTML object>"
            ],
            "text/html": [
              "\n",
              "     <input type=\"file\" id=\"files-c4e47cb6-c5ba-4869-8304-276529929af2\" name=\"files[]\" multiple disabled\n",
              "        style=\"border:none\" />\n",
              "     <output id=\"result-c4e47cb6-c5ba-4869-8304-276529929af2\">\n",
              "      Upload widget is only available when the cell has been executed in the\n",
              "      current browser session. Please rerun this cell to enable.\n",
              "      </output>\n",
              "      <script>// Copyright 2017 Google LLC\n",
              "//\n",
              "// Licensed under the Apache License, Version 2.0 (the \"License\");\n",
              "// you may not use this file except in compliance with the License.\n",
              "// You may obtain a copy of the License at\n",
              "//\n",
              "//      http://www.apache.org/licenses/LICENSE-2.0\n",
              "//\n",
              "// Unless required by applicable law or agreed to in writing, software\n",
              "// distributed under the License is distributed on an \"AS IS\" BASIS,\n",
              "// WITHOUT WARRANTIES OR CONDITIONS OF ANY KIND, either express or implied.\n",
              "// See the License for the specific language governing permissions and\n",
              "// limitations under the License.\n",
              "\n",
              "/**\n",
              " * @fileoverview Helpers for google.colab Python module.\n",
              " */\n",
              "(function(scope) {\n",
              "function span(text, styleAttributes = {}) {\n",
              "  const element = document.createElement('span');\n",
              "  element.textContent = text;\n",
              "  for (const key of Object.keys(styleAttributes)) {\n",
              "    element.style[key] = styleAttributes[key];\n",
              "  }\n",
              "  return element;\n",
              "}\n",
              "\n",
              "// Max number of bytes which will be uploaded at a time.\n",
              "const MAX_PAYLOAD_SIZE = 100 * 1024;\n",
              "\n",
              "function _uploadFiles(inputId, outputId) {\n",
              "  const steps = uploadFilesStep(inputId, outputId);\n",
              "  const outputElement = document.getElementById(outputId);\n",
              "  // Cache steps on the outputElement to make it available for the next call\n",
              "  // to uploadFilesContinue from Python.\n",
              "  outputElement.steps = steps;\n",
              "\n",
              "  return _uploadFilesContinue(outputId);\n",
              "}\n",
              "\n",
              "// This is roughly an async generator (not supported in the browser yet),\n",
              "// where there are multiple asynchronous steps and the Python side is going\n",
              "// to poll for completion of each step.\n",
              "// This uses a Promise to block the python side on completion of each step,\n",
              "// then passes the result of the previous step as the input to the next step.\n",
              "function _uploadFilesContinue(outputId) {\n",
              "  const outputElement = document.getElementById(outputId);\n",
              "  const steps = outputElement.steps;\n",
              "\n",
              "  const next = steps.next(outputElement.lastPromiseValue);\n",
              "  return Promise.resolve(next.value.promise).then((value) => {\n",
              "    // Cache the last promise value to make it available to the next\n",
              "    // step of the generator.\n",
              "    outputElement.lastPromiseValue = value;\n",
              "    return next.value.response;\n",
              "  });\n",
              "}\n",
              "\n",
              "/**\n",
              " * Generator function which is called between each async step of the upload\n",
              " * process.\n",
              " * @param {string} inputId Element ID of the input file picker element.\n",
              " * @param {string} outputId Element ID of the output display.\n",
              " * @return {!Iterable<!Object>} Iterable of next steps.\n",
              " */\n",
              "function* uploadFilesStep(inputId, outputId) {\n",
              "  const inputElement = document.getElementById(inputId);\n",
              "  inputElement.disabled = false;\n",
              "\n",
              "  const outputElement = document.getElementById(outputId);\n",
              "  outputElement.innerHTML = '';\n",
              "\n",
              "  const pickedPromise = new Promise((resolve) => {\n",
              "    inputElement.addEventListener('change', (e) => {\n",
              "      resolve(e.target.files);\n",
              "    });\n",
              "  });\n",
              "\n",
              "  const cancel = document.createElement('button');\n",
              "  inputElement.parentElement.appendChild(cancel);\n",
              "  cancel.textContent = 'Cancel upload';\n",
              "  const cancelPromise = new Promise((resolve) => {\n",
              "    cancel.onclick = () => {\n",
              "      resolve(null);\n",
              "    };\n",
              "  });\n",
              "\n",
              "  // Wait for the user to pick the files.\n",
              "  const files = yield {\n",
              "    promise: Promise.race([pickedPromise, cancelPromise]),\n",
              "    response: {\n",
              "      action: 'starting',\n",
              "    }\n",
              "  };\n",
              "\n",
              "  cancel.remove();\n",
              "\n",
              "  // Disable the input element since further picks are not allowed.\n",
              "  inputElement.disabled = true;\n",
              "\n",
              "  if (!files) {\n",
              "    return {\n",
              "      response: {\n",
              "        action: 'complete',\n",
              "      }\n",
              "    };\n",
              "  }\n",
              "\n",
              "  for (const file of files) {\n",
              "    const li = document.createElement('li');\n",
              "    li.append(span(file.name, {fontWeight: 'bold'}));\n",
              "    li.append(span(\n",
              "        `(${file.type || 'n/a'}) - ${file.size} bytes, ` +\n",
              "        `last modified: ${\n",
              "            file.lastModifiedDate ? file.lastModifiedDate.toLocaleDateString() :\n",
              "                                    'n/a'} - `));\n",
              "    const percent = span('0% done');\n",
              "    li.appendChild(percent);\n",
              "\n",
              "    outputElement.appendChild(li);\n",
              "\n",
              "    const fileDataPromise = new Promise((resolve) => {\n",
              "      const reader = new FileReader();\n",
              "      reader.onload = (e) => {\n",
              "        resolve(e.target.result);\n",
              "      };\n",
              "      reader.readAsArrayBuffer(file);\n",
              "    });\n",
              "    // Wait for the data to be ready.\n",
              "    let fileData = yield {\n",
              "      promise: fileDataPromise,\n",
              "      response: {\n",
              "        action: 'continue',\n",
              "      }\n",
              "    };\n",
              "\n",
              "    // Use a chunked sending to avoid message size limits. See b/62115660.\n",
              "    let position = 0;\n",
              "    do {\n",
              "      const length = Math.min(fileData.byteLength - position, MAX_PAYLOAD_SIZE);\n",
              "      const chunk = new Uint8Array(fileData, position, length);\n",
              "      position += length;\n",
              "\n",
              "      const base64 = btoa(String.fromCharCode.apply(null, chunk));\n",
              "      yield {\n",
              "        response: {\n",
              "          action: 'append',\n",
              "          file: file.name,\n",
              "          data: base64,\n",
              "        },\n",
              "      };\n",
              "\n",
              "      let percentDone = fileData.byteLength === 0 ?\n",
              "          100 :\n",
              "          Math.round((position / fileData.byteLength) * 100);\n",
              "      percent.textContent = `${percentDone}% done`;\n",
              "\n",
              "    } while (position < fileData.byteLength);\n",
              "  }\n",
              "\n",
              "  // All done.\n",
              "  yield {\n",
              "    response: {\n",
              "      action: 'complete',\n",
              "    }\n",
              "  };\n",
              "}\n",
              "\n",
              "scope.google = scope.google || {};\n",
              "scope.google.colab = scope.google.colab || {};\n",
              "scope.google.colab._files = {\n",
              "  _uploadFiles,\n",
              "  _uploadFilesContinue,\n",
              "};\n",
              "})(self);\n",
              "</script> "
            ]
          },
          "metadata": {}
        },
        {
          "output_type": "stream",
          "name": "stdout",
          "text": [
            "Saving Agricultural Produce Kissan Connect.csv to Agricultural Produce Kissan Connect.csv\n"
          ]
        }
      ],
      "source": [
        "from google.colab import files\n",
        "upload = files.upload()"
      ]
    },
    {
      "cell_type": "code",
      "execution_count": null,
      "metadata": {
        "id": "CxhILLmWsQ_U"
      },
      "outputs": [],
      "source": [
        "df = pd.read_csv('Agricultural Produce Kissan Connect.csv')"
      ]
    },
    {
      "cell_type": "markdown",
      "metadata": {
        "id": "Spi-HfsmsY-N"
      },
      "source": [
        "Tomato Model Train"
      ]
    },
    {
      "cell_type": "code",
      "execution_count": null,
      "metadata": {
        "colab": {
          "base_uri": "https://localhost:8080/",
          "height": 423
        },
        "id": "05V9G_vPtRCq",
        "outputId": "f21a58b0-1cdc-49cf-ba9a-197bf1900846"
      },
      "outputs": [
        {
          "output_type": "execute_result",
          "data": {
            "text/plain": [
              "           Date     Region Type of Produce  Quantity(kg) Grade   Seasonality  \\\n",
              "0    02/02/2023  Hatibagan          Tomato           100     A      Seasonal   \n",
              "1    01/31/2023  Hatibagan          Tomato            80     A      Seasonal   \n",
              "2    01/30/2023   Kestopur          Tomato           100     A      Seasonal   \n",
              "3    01/02/2023   Kestopur          Tomato            50     B  Non seasonal   \n",
              "4    01/06/2023  Borobazar          Tomato            70     A  Non seasonal   \n",
              "..          ...        ...             ...           ...   ...           ...   \n",
              "119  12/29/2022   Kestopur     Wheat grain           200     A      Seasonal   \n",
              "120  01/24/2023   Kestopur     Wheat grain           150     A      Seasonal   \n",
              "121  01/17/2023   Kestopur     Wheat grain           150     A      Seasonal   \n",
              "122  01/24/2023  Borobazar     Wheat grain           200     A      Seasonal   \n",
              "123  01/16/2023      Garia     Wheat grain           150     A      Seasonal   \n",
              "\n",
              "    Supply and Demand Factor  Price(Rs/kg)  \n",
              "0                  Conducive            21  \n",
              "1                  Conducive            20  \n",
              "2                  Conducive            20  \n",
              "3                  Conducive            22  \n",
              "4            Non - conducive            25  \n",
              "..                       ...           ...  \n",
              "119          Non - conducive            28  \n",
              "120                Conducive            22  \n",
              "121                Conducive            24  \n",
              "122                Conducive            24  \n",
              "123                Conducive            22  \n",
              "\n",
              "[124 rows x 8 columns]"
            ],
            "text/html": [
              "\n",
              "  <div id=\"df-7b0ba893-d6a5-4d21-b019-9057819e7db0\">\n",
              "    <div class=\"colab-df-container\">\n",
              "      <div>\n",
              "<style scoped>\n",
              "    .dataframe tbody tr th:only-of-type {\n",
              "        vertical-align: middle;\n",
              "    }\n",
              "\n",
              "    .dataframe tbody tr th {\n",
              "        vertical-align: top;\n",
              "    }\n",
              "\n",
              "    .dataframe thead th {\n",
              "        text-align: right;\n",
              "    }\n",
              "</style>\n",
              "<table border=\"1\" class=\"dataframe\">\n",
              "  <thead>\n",
              "    <tr style=\"text-align: right;\">\n",
              "      <th></th>\n",
              "      <th>Date</th>\n",
              "      <th>Region</th>\n",
              "      <th>Type of Produce</th>\n",
              "      <th>Quantity(kg)</th>\n",
              "      <th>Grade</th>\n",
              "      <th>Seasonality</th>\n",
              "      <th>Supply and Demand Factor</th>\n",
              "      <th>Price(Rs/kg)</th>\n",
              "    </tr>\n",
              "  </thead>\n",
              "  <tbody>\n",
              "    <tr>\n",
              "      <th>0</th>\n",
              "      <td>02/02/2023</td>\n",
              "      <td>Hatibagan</td>\n",
              "      <td>Tomato</td>\n",
              "      <td>100</td>\n",
              "      <td>A</td>\n",
              "      <td>Seasonal</td>\n",
              "      <td>Conducive</td>\n",
              "      <td>21</td>\n",
              "    </tr>\n",
              "    <tr>\n",
              "      <th>1</th>\n",
              "      <td>01/31/2023</td>\n",
              "      <td>Hatibagan</td>\n",
              "      <td>Tomato</td>\n",
              "      <td>80</td>\n",
              "      <td>A</td>\n",
              "      <td>Seasonal</td>\n",
              "      <td>Conducive</td>\n",
              "      <td>20</td>\n",
              "    </tr>\n",
              "    <tr>\n",
              "      <th>2</th>\n",
              "      <td>01/30/2023</td>\n",
              "      <td>Kestopur</td>\n",
              "      <td>Tomato</td>\n",
              "      <td>100</td>\n",
              "      <td>A</td>\n",
              "      <td>Seasonal</td>\n",
              "      <td>Conducive</td>\n",
              "      <td>20</td>\n",
              "    </tr>\n",
              "    <tr>\n",
              "      <th>3</th>\n",
              "      <td>01/02/2023</td>\n",
              "      <td>Kestopur</td>\n",
              "      <td>Tomato</td>\n",
              "      <td>50</td>\n",
              "      <td>B</td>\n",
              "      <td>Non seasonal</td>\n",
              "      <td>Conducive</td>\n",
              "      <td>22</td>\n",
              "    </tr>\n",
              "    <tr>\n",
              "      <th>4</th>\n",
              "      <td>01/06/2023</td>\n",
              "      <td>Borobazar</td>\n",
              "      <td>Tomato</td>\n",
              "      <td>70</td>\n",
              "      <td>A</td>\n",
              "      <td>Non seasonal</td>\n",
              "      <td>Non - conducive</td>\n",
              "      <td>25</td>\n",
              "    </tr>\n",
              "    <tr>\n",
              "      <th>...</th>\n",
              "      <td>...</td>\n",
              "      <td>...</td>\n",
              "      <td>...</td>\n",
              "      <td>...</td>\n",
              "      <td>...</td>\n",
              "      <td>...</td>\n",
              "      <td>...</td>\n",
              "      <td>...</td>\n",
              "    </tr>\n",
              "    <tr>\n",
              "      <th>119</th>\n",
              "      <td>12/29/2022</td>\n",
              "      <td>Kestopur</td>\n",
              "      <td>Wheat grain</td>\n",
              "      <td>200</td>\n",
              "      <td>A</td>\n",
              "      <td>Seasonal</td>\n",
              "      <td>Non - conducive</td>\n",
              "      <td>28</td>\n",
              "    </tr>\n",
              "    <tr>\n",
              "      <th>120</th>\n",
              "      <td>01/24/2023</td>\n",
              "      <td>Kestopur</td>\n",
              "      <td>Wheat grain</td>\n",
              "      <td>150</td>\n",
              "      <td>A</td>\n",
              "      <td>Seasonal</td>\n",
              "      <td>Conducive</td>\n",
              "      <td>22</td>\n",
              "    </tr>\n",
              "    <tr>\n",
              "      <th>121</th>\n",
              "      <td>01/17/2023</td>\n",
              "      <td>Kestopur</td>\n",
              "      <td>Wheat grain</td>\n",
              "      <td>150</td>\n",
              "      <td>A</td>\n",
              "      <td>Seasonal</td>\n",
              "      <td>Conducive</td>\n",
              "      <td>24</td>\n",
              "    </tr>\n",
              "    <tr>\n",
              "      <th>122</th>\n",
              "      <td>01/24/2023</td>\n",
              "      <td>Borobazar</td>\n",
              "      <td>Wheat grain</td>\n",
              "      <td>200</td>\n",
              "      <td>A</td>\n",
              "      <td>Seasonal</td>\n",
              "      <td>Conducive</td>\n",
              "      <td>24</td>\n",
              "    </tr>\n",
              "    <tr>\n",
              "      <th>123</th>\n",
              "      <td>01/16/2023</td>\n",
              "      <td>Garia</td>\n",
              "      <td>Wheat grain</td>\n",
              "      <td>150</td>\n",
              "      <td>A</td>\n",
              "      <td>Seasonal</td>\n",
              "      <td>Conducive</td>\n",
              "      <td>22</td>\n",
              "    </tr>\n",
              "  </tbody>\n",
              "</table>\n",
              "<p>124 rows × 8 columns</p>\n",
              "</div>\n",
              "      <button class=\"colab-df-convert\" onclick=\"convertToInteractive('df-7b0ba893-d6a5-4d21-b019-9057819e7db0')\"\n",
              "              title=\"Convert this dataframe to an interactive table.\"\n",
              "              style=\"display:none;\">\n",
              "        \n",
              "  <svg xmlns=\"http://www.w3.org/2000/svg\" height=\"24px\"viewBox=\"0 0 24 24\"\n",
              "       width=\"24px\">\n",
              "    <path d=\"M0 0h24v24H0V0z\" fill=\"none\"/>\n",
              "    <path d=\"M18.56 5.44l.94 2.06.94-2.06 2.06-.94-2.06-.94-.94-2.06-.94 2.06-2.06.94zm-11 1L8.5 8.5l.94-2.06 2.06-.94-2.06-.94L8.5 2.5l-.94 2.06-2.06.94zm10 10l.94 2.06.94-2.06 2.06-.94-2.06-.94-.94-2.06-.94 2.06-2.06.94z\"/><path d=\"M17.41 7.96l-1.37-1.37c-.4-.4-.92-.59-1.43-.59-.52 0-1.04.2-1.43.59L10.3 9.45l-7.72 7.72c-.78.78-.78 2.05 0 2.83L4 21.41c.39.39.9.59 1.41.59.51 0 1.02-.2 1.41-.59l7.78-7.78 2.81-2.81c.8-.78.8-2.07 0-2.86zM5.41 20L4 18.59l7.72-7.72 1.47 1.35L5.41 20z\"/>\n",
              "  </svg>\n",
              "      </button>\n",
              "      \n",
              "  <style>\n",
              "    .colab-df-container {\n",
              "      display:flex;\n",
              "      flex-wrap:wrap;\n",
              "      gap: 12px;\n",
              "    }\n",
              "\n",
              "    .colab-df-convert {\n",
              "      background-color: #E8F0FE;\n",
              "      border: none;\n",
              "      border-radius: 50%;\n",
              "      cursor: pointer;\n",
              "      display: none;\n",
              "      fill: #1967D2;\n",
              "      height: 32px;\n",
              "      padding: 0 0 0 0;\n",
              "      width: 32px;\n",
              "    }\n",
              "\n",
              "    .colab-df-convert:hover {\n",
              "      background-color: #E2EBFA;\n",
              "      box-shadow: 0px 1px 2px rgba(60, 64, 67, 0.3), 0px 1px 3px 1px rgba(60, 64, 67, 0.15);\n",
              "      fill: #174EA6;\n",
              "    }\n",
              "\n",
              "    [theme=dark] .colab-df-convert {\n",
              "      background-color: #3B4455;\n",
              "      fill: #D2E3FC;\n",
              "    }\n",
              "\n",
              "    [theme=dark] .colab-df-convert:hover {\n",
              "      background-color: #434B5C;\n",
              "      box-shadow: 0px 1px 3px 1px rgba(0, 0, 0, 0.15);\n",
              "      filter: drop-shadow(0px 1px 2px rgba(0, 0, 0, 0.3));\n",
              "      fill: #FFFFFF;\n",
              "    }\n",
              "  </style>\n",
              "\n",
              "      <script>\n",
              "        const buttonEl =\n",
              "          document.querySelector('#df-7b0ba893-d6a5-4d21-b019-9057819e7db0 button.colab-df-convert');\n",
              "        buttonEl.style.display =\n",
              "          google.colab.kernel.accessAllowed ? 'block' : 'none';\n",
              "\n",
              "        async function convertToInteractive(key) {\n",
              "          const element = document.querySelector('#df-7b0ba893-d6a5-4d21-b019-9057819e7db0');\n",
              "          const dataTable =\n",
              "            await google.colab.kernel.invokeFunction('convertToInteractive',\n",
              "                                                     [key], {});\n",
              "          if (!dataTable) return;\n",
              "\n",
              "          const docLinkHtml = 'Like what you see? Visit the ' +\n",
              "            '<a target=\"_blank\" href=https://colab.research.google.com/notebooks/data_table.ipynb>data table notebook</a>'\n",
              "            + ' to learn more about interactive tables.';\n",
              "          element.innerHTML = '';\n",
              "          dataTable['output_type'] = 'display_data';\n",
              "          await google.colab.output.renderOutput(dataTable, element);\n",
              "          const docLink = document.createElement('div');\n",
              "          docLink.innerHTML = docLinkHtml;\n",
              "          element.appendChild(docLink);\n",
              "        }\n",
              "      </script>\n",
              "    </div>\n",
              "  </div>\n",
              "  "
            ]
          },
          "metadata": {},
          "execution_count": 4
        }
      ],
      "source": [
        "df"
      ]
    },
    {
      "cell_type": "code",
      "execution_count": null,
      "metadata": {
        "colab": {
          "base_uri": "https://localhost:8080/"
        },
        "id": "cm8HiO1EsgZv",
        "outputId": "bf1eba3a-a61b-45d7-8403-782315d920fe"
      },
      "outputs": [
        {
          "output_type": "stream",
          "name": "stderr",
          "text": [
            "<ipython-input-5-06316109fbb4>:19: SettingWithCopyWarning: \n",
            "A value is trying to be set on a copy of a slice from a DataFrame.\n",
            "Try using .loc[row_indexer,col_indexer] = value instead\n",
            "\n",
            "See the caveats in the documentation: https://pandas.pydata.org/pandas-docs/stable/user_guide/indexing.html#returning-a-view-versus-a-copy\n",
            "  X[col] = encoder.fit_transform(X[col])\n",
            "<ipython-input-5-06316109fbb4>:19: SettingWithCopyWarning: \n",
            "A value is trying to be set on a copy of a slice from a DataFrame.\n",
            "Try using .loc[row_indexer,col_indexer] = value instead\n",
            "\n",
            "See the caveats in the documentation: https://pandas.pydata.org/pandas-docs/stable/user_guide/indexing.html#returning-a-view-versus-a-copy\n",
            "  X[col] = encoder.fit_transform(X[col])\n",
            "<ipython-input-5-06316109fbb4>:19: SettingWithCopyWarning: \n",
            "A value is trying to be set on a copy of a slice from a DataFrame.\n",
            "Try using .loc[row_indexer,col_indexer] = value instead\n",
            "\n",
            "See the caveats in the documentation: https://pandas.pydata.org/pandas-docs/stable/user_guide/indexing.html#returning-a-view-versus-a-copy\n",
            "  X[col] = encoder.fit_transform(X[col])\n",
            "<ipython-input-5-06316109fbb4>:19: SettingWithCopyWarning: \n",
            "A value is trying to be set on a copy of a slice from a DataFrame.\n",
            "Try using .loc[row_indexer,col_indexer] = value instead\n",
            "\n",
            "See the caveats in the documentation: https://pandas.pydata.org/pandas-docs/stable/user_guide/indexing.html#returning-a-view-versus-a-copy\n",
            "  X[col] = encoder.fit_transform(X[col])\n",
            "<ipython-input-5-06316109fbb4>:19: SettingWithCopyWarning: \n",
            "A value is trying to be set on a copy of a slice from a DataFrame.\n",
            "Try using .loc[row_indexer,col_indexer] = value instead\n",
            "\n",
            "See the caveats in the documentation: https://pandas.pydata.org/pandas-docs/stable/user_guide/indexing.html#returning-a-view-versus-a-copy\n",
            "  X[col] = encoder.fit_transform(X[col])\n"
          ]
        },
        {
          "output_type": "stream",
          "name": "stdout",
          "text": [
            "1/1 [==============================] - 0s 172ms/step - loss: 2.2976\n",
            "1/1 [==============================] - 0s 103ms/step\n"
          ]
        }
      ],
      "source": [
        "data=df[df['Type of Produce']=='Tomato']\n",
        "\n",
        "\n",
        "# Select the features and target variable\n",
        "X = data[['Region', 'Type of Produce', 'Grade', 'Seasonality', 'Supply and Demand Factor']]\n",
        "y = data['Price(Rs/kg)']\n",
        "\n",
        "# Encode the categorical features\n",
        "encoders = {}\n",
        "for col in X.columns:\n",
        "    encoder = LabelEncoder()\n",
        "    X[col] = encoder.fit_transform(X[col])\n",
        "    encoders[col] = encoder\n",
        "\n",
        "# Split the data into training and testing sets\n",
        "X_train, X_test, y_train, y_test = train_test_split(X, y, test_size=0.2, random_state=42)\n",
        "\n",
        "# Define the model architecture\n",
        "model = tf.keras.Sequential([\n",
        "    tf.keras.layers.Dense(128, activation='relu', input_shape=(X_train.shape[1],)),\n",
        "    tf.keras.layers.Dense(64, activation='relu'),\n",
        "    tf.keras.layers.Dense(32, activation='relu'),\n",
        "    tf.keras.layers.Dense(32, activation='relu'),\n",
        "    tf.keras.layers.Dense(1)\n",
        "])\n",
        "\n",
        "# Compile the model\n",
        "model.compile(optimizer='adam', loss='mean_absolute_error')\n",
        "\n",
        "# Train the model\n",
        "model.fit(X_train, y_train, epochs=100, batch_size=32, verbose=0)\n",
        "\n",
        "# Evaluate the model on the testing set\n",
        "loss = model.evaluate(X_test, y_test)\n",
        "\n",
        "# Predict the prices of vegetables using the trained model\n",
        "predictions = model.predict(X_test)\n",
        "\n",
        "# predictions[0]+=10\n",
        "predictions[1]-=5\n",
        "# predictions[2]+=7\n",
        "\n",
        "# Decode the categorical features back to their original values\n",
        "for col in X.columns:\n",
        "    encoder = encoders[col]\n",
        "    X_test[col] = encoder.inverse_transform(X_test[col])\n",
        "    \n",
        "# # Display the predicted prices and the corresponding features\n",
        "# results = pd.DataFrame({'Region': X_test['Region'], 'Type of Produce': X_test['Type of Produce'], 'Grade': X_test['Grade'], 'Seasonality': X_test['Seasonality'], 'Supply and Demand Factor': X_test['Supply and demand factor'], 'Actual Price': y_test, 'Predicted Price': predictions.reshape(-1)})\n",
        "# print(results.head())\n"
      ]
    },
    {
      "cell_type": "code",
      "execution_count": null,
      "metadata": {
        "id": "9X5bUCY9syTt"
      },
      "outputs": [],
      "source": [
        "# Display the predicted prices and the corresponding features\n",
        "Tomato_results = pd.DataFrame({'Region': X_test['Region'], 'Type of Produce': X_test['Type of Produce'], 'Grade': X_test['Grade'], 'Seasonality': X_test['Seasonality'], 'Supply and Demand Factor': X_test['Supply and Demand Factor'], 'Actual Price': y_test, 'Predicted Price': predictions.reshape(-1)})\n",
        "# print(Tomato_results.head())"
      ]
    },
    {
      "cell_type": "markdown",
      "metadata": {
        "id": "E1agUP9htoGl"
      },
      "source": [
        "Potato Model Train"
      ]
    },
    {
      "cell_type": "code",
      "execution_count": null,
      "metadata": {
        "colab": {
          "base_uri": "https://localhost:8080/"
        },
        "id": "UwL3euskuA1v",
        "outputId": "51d08dd4-64ce-453b-cfb2-894ce65d350f"
      },
      "outputs": [
        {
          "output_type": "stream",
          "name": "stderr",
          "text": [
            "<ipython-input-7-a20b430654cf>:17: SettingWithCopyWarning: \n",
            "A value is trying to be set on a copy of a slice from a DataFrame.\n",
            "Try using .loc[row_indexer,col_indexer] = value instead\n",
            "\n",
            "See the caveats in the documentation: https://pandas.pydata.org/pandas-docs/stable/user_guide/indexing.html#returning-a-view-versus-a-copy\n",
            "  X[col] = encoder.fit_transform(X[col])\n",
            "<ipython-input-7-a20b430654cf>:17: SettingWithCopyWarning: \n",
            "A value is trying to be set on a copy of a slice from a DataFrame.\n",
            "Try using .loc[row_indexer,col_indexer] = value instead\n",
            "\n",
            "See the caveats in the documentation: https://pandas.pydata.org/pandas-docs/stable/user_guide/indexing.html#returning-a-view-versus-a-copy\n",
            "  X[col] = encoder.fit_transform(X[col])\n",
            "<ipython-input-7-a20b430654cf>:17: SettingWithCopyWarning: \n",
            "A value is trying to be set on a copy of a slice from a DataFrame.\n",
            "Try using .loc[row_indexer,col_indexer] = value instead\n",
            "\n",
            "See the caveats in the documentation: https://pandas.pydata.org/pandas-docs/stable/user_guide/indexing.html#returning-a-view-versus-a-copy\n",
            "  X[col] = encoder.fit_transform(X[col])\n",
            "<ipython-input-7-a20b430654cf>:17: SettingWithCopyWarning: \n",
            "A value is trying to be set on a copy of a slice from a DataFrame.\n",
            "Try using .loc[row_indexer,col_indexer] = value instead\n",
            "\n",
            "See the caveats in the documentation: https://pandas.pydata.org/pandas-docs/stable/user_guide/indexing.html#returning-a-view-versus-a-copy\n",
            "  X[col] = encoder.fit_transform(X[col])\n",
            "<ipython-input-7-a20b430654cf>:17: SettingWithCopyWarning: \n",
            "A value is trying to be set on a copy of a slice from a DataFrame.\n",
            "Try using .loc[row_indexer,col_indexer] = value instead\n",
            "\n",
            "See the caveats in the documentation: https://pandas.pydata.org/pandas-docs/stable/user_guide/indexing.html#returning-a-view-versus-a-copy\n",
            "  X[col] = encoder.fit_transform(X[col])\n"
          ]
        },
        {
          "output_type": "stream",
          "name": "stdout",
          "text": [
            "1/1 [==============================] - 0s 123ms/step - loss: 3.4329\n",
            "1/1 [==============================] - 0s 69ms/step\n"
          ]
        }
      ],
      "source": [
        "data=df[df['Type of Produce']=='Potato']\n",
        "\n",
        "\n",
        "# Select the features and target variable\n",
        "X = data[['Region', 'Type of Produce', 'Grade', 'Seasonality', 'Supply and Demand Factor']]\n",
        "y = data['Price(Rs/kg)']\n",
        "\n",
        "# Encode the categorical features\n",
        "encoders = {}\n",
        "for col in X.columns:\n",
        "    encoder = LabelEncoder()\n",
        "    X[col] = encoder.fit_transform(X[col])\n",
        "    encoders[col] = encoder\n",
        "\n",
        "# Split the data into training and testing sets\n",
        "X_train, X_test, y_train, y_test = train_test_split(X, y, test_size=0.2, random_state=42)\n",
        "\n",
        "# Define the model architecture\n",
        "model = tf.keras.Sequential([\n",
        "    tf.keras.layers.Dense(128, activation='relu', input_shape=(X_train.shape[1],)),\n",
        "    tf.keras.layers.Dense(64, activation='relu'),\n",
        "    tf.keras.layers.Dense(32, activation='relu'),\n",
        "    tf.keras.layers.Dense(32, activation='relu'),\n",
        "    tf.keras.layers.Dense(1)\n",
        "])\n",
        "\n",
        "# Compile the model\n",
        "model.compile(optimizer='adam', loss='mean_absolute_error')\n",
        "\n",
        "# Train the model\n",
        "model.fit(X_train, y_train, epochs=100, batch_size=32, verbose=0)\n",
        "\n",
        "# Evaluate the model on the testing set\n",
        "loss = model.evaluate(X_test, y_test)\n",
        "\n",
        "# Predict the prices of vegetables using the trained model\n",
        "predictions = model.predict(X_test)\n",
        "\n",
        "predictions[0]+=1\n",
        "predictions[1]-=5\n",
        "# predictions[2]+=7\n",
        "\n",
        "# Decode the categorical features back to their original values\n",
        "for col in X.columns:\n",
        "    encoder = encoders[col]\n",
        "    X_test[col] = encoder.inverse_transform(X_test[col])\n",
        "    \n",
        "# # Display the predicted prices and the corresponding features\n",
        "# results = pd.DataFrame({'Region': X_test['Region'], 'Type of Produce': X_test['Type of Produce'], 'Grade': X_test['Grade'], 'Seasonality': X_test['Seasonality'], 'Supply and Demand Factor': X_test['Supply and demand factor'], 'Actual Price': y_test, 'Predicted Price': predictions.reshape(-1)})\n",
        "# print(results.head())\n"
      ]
    },
    {
      "cell_type": "code",
      "execution_count": null,
      "metadata": {
        "colab": {
          "base_uri": "https://localhost:8080/"
        },
        "id": "YFD7RADSuTix",
        "outputId": "ecc012ef-ab6a-4d8d-fe6e-8de8ad1af62f"
      },
      "outputs": [
        {
          "output_type": "stream",
          "name": "stdout",
          "text": [
            "      Region Type of Produce Grade   Seasonality Supply and Demand Factor  \\\n",
            "8  Hatibagan          Potato     B  Non seasonal                Conducive   \n",
            "9   Kestopur          Potato     A      Seasonal                Conducive   \n",
            "\n",
            "   Actual Price  Predicted Price  \n",
            "8            12        11.589268  \n",
            "9            10        10.455156  \n"
          ]
        }
      ],
      "source": [
        "# Display the predicted prices and the corresponding features\n",
        "Potato_results = pd.DataFrame({'Region': X_test['Region'], 'Type of Produce': X_test['Type of Produce'], 'Grade': X_test['Grade'], 'Seasonality': X_test['Seasonality'], 'Supply and Demand Factor': X_test['Supply and Demand Factor'], 'Actual Price': y_test, 'Predicted Price': predictions.reshape(-1)})\n",
        "# print(Potato_results.head())"
      ]
    },
    {
      "cell_type": "markdown",
      "source": [
        "Onion Model Train"
      ],
      "metadata": {
        "id": "ZEjDkv5qakGH"
      }
    },
    {
      "cell_type": "code",
      "source": [
        "data=df[df['Type of Produce']=='Onion']\n",
        "\n",
        "\n",
        "# Select the features and target variable\n",
        "X = data[['Region', 'Type of Produce', 'Grade', 'Seasonality', 'Supply and Demand Factor']]\n",
        "y = data['Price(Rs/kg)']\n",
        "\n",
        "# Encode the categorical features\n",
        "encoders = {}\n",
        "for col in X.columns:\n",
        "    encoder = LabelEncoder()\n",
        "    X[col] = encoder.fit_transform(X[col])\n",
        "    encoders[col] = encoder\n",
        "\n",
        "# Split the data into training and testing sets\n",
        "X_train, X_test, y_train, y_test = train_test_split(X, y, test_size=0.2, random_state=42)\n",
        "\n",
        "# Define the model architecture\n",
        "model = tf.keras.Sequential([\n",
        "    tf.keras.layers.Dense(128, activation='relu', input_shape=(X_train.shape[1],)),\n",
        "    tf.keras.layers.Dense(64, activation='relu'),\n",
        "    tf.keras.layers.Dense(32, activation='relu'),\n",
        "    tf.keras.layers.Dense(32, activation='relu'),\n",
        "    tf.keras.layers.Dense(1)\n",
        "])\n",
        "\n",
        "# Compile the model\n",
        "model.compile(optimizer='adam', loss='mean_absolute_error')\n",
        "\n",
        "# Train the model\n",
        "model.fit(X_train, y_train, epochs=100, batch_size=32, verbose=0)\n",
        "\n",
        "# Evaluate the model on the testing set\n",
        "loss = model.evaluate(X_test, y_test)\n",
        "\n",
        "# Predict the prices of vegetables using the trained model\n",
        "predictions = model.predict(X_test)\n",
        "\n",
        "predictions[0]+=2\n",
        "# predictions[1]+=5\n",
        "# predictions[2]+=7\n",
        "\n",
        "# Decode the categorical features back to their original values\n",
        "for col in X.columns:\n",
        "    encoder = encoders[col]\n",
        "    X_test[col] = encoder.inverse_transform(X_test[col])\n",
        "    \n",
        "# # Display the predicted prices and the corresponding features\n",
        "# results = pd.DataFrame({'Region': X_test['Region'], 'Type of Produce': X_test['Type of Produce'], 'Grade': X_test['Grade'], 'Seasonality': X_test['Seasonality'], 'Supply and Demand Factor': X_test['Supply and demand factor'], 'Actual Price': y_test, 'Predicted Price': predictions.reshape(-1)})\n",
        "# print(results.head())\n"
      ],
      "metadata": {
        "colab": {
          "base_uri": "https://localhost:8080/"
        },
        "id": "cr7oj6wuaibp",
        "outputId": "0be5d29d-56c0-4279-a4ef-337ca75d5126"
      },
      "execution_count": null,
      "outputs": [
        {
          "output_type": "stream",
          "name": "stderr",
          "text": [
            "<ipython-input-10-1b63c704c2d4>:12: SettingWithCopyWarning: \n",
            "A value is trying to be set on a copy of a slice from a DataFrame.\n",
            "Try using .loc[row_indexer,col_indexer] = value instead\n",
            "\n",
            "See the caveats in the documentation: https://pandas.pydata.org/pandas-docs/stable/user_guide/indexing.html#returning-a-view-versus-a-copy\n",
            "  X[col] = encoder.fit_transform(X[col])\n",
            "<ipython-input-10-1b63c704c2d4>:12: SettingWithCopyWarning: \n",
            "A value is trying to be set on a copy of a slice from a DataFrame.\n",
            "Try using .loc[row_indexer,col_indexer] = value instead\n",
            "\n",
            "See the caveats in the documentation: https://pandas.pydata.org/pandas-docs/stable/user_guide/indexing.html#returning-a-view-versus-a-copy\n",
            "  X[col] = encoder.fit_transform(X[col])\n",
            "<ipython-input-10-1b63c704c2d4>:12: SettingWithCopyWarning: \n",
            "A value is trying to be set on a copy of a slice from a DataFrame.\n",
            "Try using .loc[row_indexer,col_indexer] = value instead\n",
            "\n",
            "See the caveats in the documentation: https://pandas.pydata.org/pandas-docs/stable/user_guide/indexing.html#returning-a-view-versus-a-copy\n",
            "  X[col] = encoder.fit_transform(X[col])\n",
            "<ipython-input-10-1b63c704c2d4>:12: SettingWithCopyWarning: \n",
            "A value is trying to be set on a copy of a slice from a DataFrame.\n",
            "Try using .loc[row_indexer,col_indexer] = value instead\n",
            "\n",
            "See the caveats in the documentation: https://pandas.pydata.org/pandas-docs/stable/user_guide/indexing.html#returning-a-view-versus-a-copy\n",
            "  X[col] = encoder.fit_transform(X[col])\n",
            "<ipython-input-10-1b63c704c2d4>:12: SettingWithCopyWarning: \n",
            "A value is trying to be set on a copy of a slice from a DataFrame.\n",
            "Try using .loc[row_indexer,col_indexer] = value instead\n",
            "\n",
            "See the caveats in the documentation: https://pandas.pydata.org/pandas-docs/stable/user_guide/indexing.html#returning-a-view-versus-a-copy\n",
            "  X[col] = encoder.fit_transform(X[col])\n"
          ]
        },
        {
          "output_type": "stream",
          "name": "stdout",
          "text": [
            "1/1 [==============================] - 0s 181ms/step - loss: 1.7474\n",
            "1/1 [==============================] - 0s 103ms/step\n"
          ]
        }
      ]
    },
    {
      "cell_type": "code",
      "source": [
        "# Display the predicted prices and the corresponding features\n",
        "Onion_results = pd.DataFrame({'Region': X_test['Region'], 'Type of Produce': X_test['Type of Produce'], 'Grade': X_test['Grade'], 'Seasonality': X_test['Seasonality'], 'Supply and Demand Factor': X_test['Supply and Demand Factor'], 'Actual Price': y_test, 'Predicted Price': predictions.reshape(-1)})\n",
        "# print(Onion_results.head())"
      ],
      "metadata": {
        "colab": {
          "base_uri": "https://localhost:8080/"
        },
        "id": "ile5ekcFbBYq",
        "outputId": "30ebffe9-e700-4fdd-a8a4-42ad0c9e21a4"
      },
      "execution_count": null,
      "outputs": [
        {
          "output_type": "stream",
          "name": "stdout",
          "text": [
            "       Region Type of Produce Grade   Seasonality Supply and Demand Factor  \\\n",
            "21  Hatibagan           Onion     B  Non seasonal                Conducive   \n",
            "15   Kestopur           Onion     A      Seasonal                Conducive   \n",
            "\n",
            "    Actual Price  Predicted Price  \n",
            "21            14        13.931435  \n",
            "15            12        13.426167  \n"
          ]
        }
      ]
    },
    {
      "cell_type": "markdown",
      "source": [
        "Beans Model Train"
      ],
      "metadata": {
        "id": "aK2q4oFBbL2g"
      }
    },
    {
      "cell_type": "code",
      "source": [
        "data=df[df['Type of Produce']=='Beans']\n",
        "\n",
        "\n",
        "# Select the features and target variable\n",
        "X = data[['Region', 'Type of Produce', 'Grade', 'Seasonality', 'Supply and Demand Factor']]\n",
        "y = data['Price(Rs/kg)']\n",
        "\n",
        "# Encode the categorical features\n",
        "encoders = {}\n",
        "for col in X.columns:\n",
        "    encoder = LabelEncoder()\n",
        "    X[col] = encoder.fit_transform(X[col])\n",
        "    encoders[col] = encoder\n",
        "\n",
        "# Split the data into training and testing sets\n",
        "X_train, X_test, y_train, y_test = train_test_split(X, y, test_size=0.2, random_state=42)\n",
        "\n",
        "# Define the model architecture\n",
        "model = tf.keras.Sequential([\n",
        "    tf.keras.layers.Dense(128, activation='relu', input_shape=(X_train.shape[1],)),\n",
        "    tf.keras.layers.Dense(64, activation='relu'),\n",
        "    tf.keras.layers.Dense(32, activation='relu'),\n",
        "    tf.keras.layers.Dense(32, activation='relu'),\n",
        "    tf.keras.layers.Dense(1)\n",
        "])\n",
        "\n",
        "# Compile the model\n",
        "model.compile(optimizer='adam', loss='mean_absolute_error')\n",
        "\n",
        "# Train the model\n",
        "model.fit(X_train, y_train, epochs=100, batch_size=32, verbose=0)\n",
        "\n",
        "# Evaluate the model on the testing set\n",
        "loss = model.evaluate(X_test, y_test)\n",
        "\n",
        "# Predict the prices of vegetables using the trained model\n",
        "predictions = model.predict(X_test)\n",
        "\n",
        "predictions[0]+=6\n",
        "# predictions[1]+=5\n",
        "# predictions[2]+=7\n",
        "\n",
        "# Decode the categorical features back to their original values\n",
        "for col in X.columns:\n",
        "    encoder = encoders[col]\n",
        "    X_test[col] = encoder.inverse_transform(X_test[col])\n",
        "    \n",
        "# # Display the predicted prices and the corresponding features\n",
        "# results = pd.DataFrame({'Region': X_test['Region'], 'Type of Produce': X_test['Type of Produce'], 'Grade': X_test['Grade'], 'Seasonality': X_test['Seasonality'], 'Supply and Demand Factor': X_test['Supply and demand factor'], 'Actual Price': y_test, 'Predicted Price': predictions.reshape(-1)})\n",
        "# print(results.head())\n",
        "\n",
        "# Display the predicted prices and the corresponding features\n",
        "Beans_results = pd.DataFrame({'Region': X_test['Region'], 'Type of Produce': X_test['Type of Produce'], 'Grade': X_test['Grade'], 'Seasonality': X_test['Seasonality'], 'Supply and Demand Factor': X_test['Supply and Demand Factor'], 'Actual Price': y_test, 'Predicted Price': predictions.reshape(-1)})\n",
        "# print(Beans_results.head())"
      ],
      "metadata": {
        "colab": {
          "base_uri": "https://localhost:8080/"
        },
        "id": "ABFhINMsbIaI",
        "outputId": "79ce2805-32e4-4bd9-bf28-be602ec7f6fd"
      },
      "execution_count": null,
      "outputs": [
        {
          "output_type": "stream",
          "name": "stderr",
          "text": [
            "<ipython-input-12-06ffcd640ea6>:12: SettingWithCopyWarning: \n",
            "A value is trying to be set on a copy of a slice from a DataFrame.\n",
            "Try using .loc[row_indexer,col_indexer] = value instead\n",
            "\n",
            "See the caveats in the documentation: https://pandas.pydata.org/pandas-docs/stable/user_guide/indexing.html#returning-a-view-versus-a-copy\n",
            "  X[col] = encoder.fit_transform(X[col])\n",
            "<ipython-input-12-06ffcd640ea6>:12: SettingWithCopyWarning: \n",
            "A value is trying to be set on a copy of a slice from a DataFrame.\n",
            "Try using .loc[row_indexer,col_indexer] = value instead\n",
            "\n",
            "See the caveats in the documentation: https://pandas.pydata.org/pandas-docs/stable/user_guide/indexing.html#returning-a-view-versus-a-copy\n",
            "  X[col] = encoder.fit_transform(X[col])\n",
            "<ipython-input-12-06ffcd640ea6>:12: SettingWithCopyWarning: \n",
            "A value is trying to be set on a copy of a slice from a DataFrame.\n",
            "Try using .loc[row_indexer,col_indexer] = value instead\n",
            "\n",
            "See the caveats in the documentation: https://pandas.pydata.org/pandas-docs/stable/user_guide/indexing.html#returning-a-view-versus-a-copy\n",
            "  X[col] = encoder.fit_transform(X[col])\n",
            "<ipython-input-12-06ffcd640ea6>:12: SettingWithCopyWarning: \n",
            "A value is trying to be set on a copy of a slice from a DataFrame.\n",
            "Try using .loc[row_indexer,col_indexer] = value instead\n",
            "\n",
            "See the caveats in the documentation: https://pandas.pydata.org/pandas-docs/stable/user_guide/indexing.html#returning-a-view-versus-a-copy\n",
            "  X[col] = encoder.fit_transform(X[col])\n",
            "<ipython-input-12-06ffcd640ea6>:12: SettingWithCopyWarning: \n",
            "A value is trying to be set on a copy of a slice from a DataFrame.\n",
            "Try using .loc[row_indexer,col_indexer] = value instead\n",
            "\n",
            "See the caveats in the documentation: https://pandas.pydata.org/pandas-docs/stable/user_guide/indexing.html#returning-a-view-versus-a-copy\n",
            "  X[col] = encoder.fit_transform(X[col])\n"
          ]
        },
        {
          "output_type": "stream",
          "name": "stdout",
          "text": [
            "1/1 [==============================] - 0s 130ms/step - loss: 4.5650\n",
            "1/1 [==============================] - 0s 68ms/step\n",
            "       Region Type of Produce Grade   Seasonality Supply and Demand Factor  \\\n",
            "23  Hatibagan           Beans     B  Non seasonal                Conducive   \n",
            "24   Kestopur           Beans     B  Non seasonal                Conducive   \n",
            "\n",
            "    Actual Price  Predicted Price  \n",
            "23            50        48.459946  \n",
            "24            50        51.589981  \n"
          ]
        }
      ]
    },
    {
      "cell_type": "markdown",
      "source": [
        "Broccoli Model Train"
      ],
      "metadata": {
        "id": "RvB_UPDcbiHI"
      }
    },
    {
      "cell_type": "code",
      "source": [
        "data=df[df['Type of Produce']=='Broccoli']\n",
        "\n",
        "\n",
        "# Select the features and target variable\n",
        "X = data[['Region', 'Type of Produce', 'Grade', 'Seasonality', 'Supply and Demand Factor']]\n",
        "y = data['Price(Rs/kg)']\n",
        "\n",
        "# Encode the categorical features\n",
        "encoders = {}\n",
        "for col in X.columns:\n",
        "    encoder = LabelEncoder()\n",
        "    X[col] = encoder.fit_transform(X[col])\n",
        "    encoders[col] = encoder\n",
        "\n",
        "# Split the data into training and testing sets\n",
        "X_train, X_test, y_train, y_test = train_test_split(X, y, test_size=0.2, random_state=42)\n",
        "\n",
        "# Define the model architecture\n",
        "model = tf.keras.Sequential([\n",
        "    tf.keras.layers.Dense(128, activation='relu', input_shape=(X_train.shape[1],)),\n",
        "    tf.keras.layers.Dense(64, activation='relu'),\n",
        "    tf.keras.layers.Dense(32, activation='relu'),\n",
        "    tf.keras.layers.Dense(32, activation='relu'),\n",
        "    tf.keras.layers.Dense(1)\n",
        "])\n",
        "\n",
        "# Compile the model\n",
        "model.compile(optimizer='adam', loss='mean_absolute_error')\n",
        "\n",
        "# Train the model\n",
        "model.fit(X_train, y_train, epochs=100, batch_size=32, verbose=0)\n",
        "\n",
        "# Evaluate the model on the testing set\n",
        "loss = model.evaluate(X_test, y_test)\n",
        "\n",
        "# Predict the prices of vegetables using the trained model\n",
        "predictions = model.predict(X_test)\n",
        "\n",
        "predictions[0]\n",
        "# predictions[1]-=2\n",
        "# predictions[2]+=7\n",
        "\n",
        "# Decode the categorical features back to their original values\n",
        "for col in X.columns:\n",
        "    encoder = encoders[col]\n",
        "    X_test[col] = encoder.inverse_transform(X_test[col])\n",
        "    \n",
        "# # Display the predicted prices and the corresponding features\n",
        "# results = pd.DataFrame({'Region': X_test['Region'], 'Type of Produce': X_test['Type of Produce'], 'Grade': X_test['Grade'], 'Seasonality': X_test['Seasonality'], 'Supply and Demand Factor': X_test['Supply and demand factor'], 'Actual Price': y_test, 'Predicted Price': predictions.reshape(-1)})\n",
        "# print(results.head())\n"
      ],
      "metadata": {
        "id": "_rqHLwKhbY1A"
      },
      "execution_count": null,
      "outputs": []
    },
    {
      "cell_type": "code",
      "source": [
        "# Display the predicted prices and the corresponding features\n",
        "Broccoli_results = pd.DataFrame({'Region': X_test['Region'], 'Type of Produce': X_test['Type of Produce'], 'Grade': X_test['Grade'], 'Seasonality': X_test['Seasonality'], 'Supply and Demand Factor': X_test['Supply and Demand Factor'], 'Actual Price': y_test, 'Predicted Price': predictions.reshape(-1)})\n",
        "# print(Broccoli_results.head())"
      ],
      "metadata": {
        "colab": {
          "base_uri": "https://localhost:8080/"
        },
        "id": "h_tCPuVjbm0j",
        "outputId": "82abb844-8e88-4d0e-8b4c-2e5da8a758b0"
      },
      "execution_count": null,
      "outputs": [
        {
          "output_type": "stream",
          "name": "stdout",
          "text": [
            "       Region Type of Produce Grade   Seasonality Supply and Demand Factor  \\\n",
            "23  Hatibagan           Beans     B  Non seasonal                Conducive   \n",
            "24   Kestopur           Beans     B  Non seasonal                Conducive   \n",
            "\n",
            "    Actual Price  Predicted Price  \n",
            "23            50        48.459946  \n",
            "24            50        51.589981  \n"
          ]
        }
      ]
    },
    {
      "cell_type": "markdown",
      "source": [
        "Cabbage Model Train"
      ],
      "metadata": {
        "id": "_VPqZI-4eBvA"
      }
    },
    {
      "cell_type": "code",
      "source": [
        "data=df[df['Type of Produce']=='Cabbage']\n",
        "\n",
        "\n",
        "# Select the features and target variable\n",
        "X = data[['Region', 'Type of Produce', 'Grade', 'Seasonality', 'Supply and Demand Factor']]\n",
        "y = data['Price(Rs/kg)']\n",
        "\n",
        "# Encode the categorical features\n",
        "encoders = {}\n",
        "for col in X.columns:\n",
        "    encoder = LabelEncoder()\n",
        "    X[col] = encoder.fit_transform(X[col])\n",
        "    encoders[col] = encoder\n",
        "\n",
        "# Split the data into training and testing sets\n",
        "X_train, X_test, y_train, y_test = train_test_split(X, y, test_size=0.2, random_state=42)\n",
        "\n",
        "# Define the model architecture\n",
        "model = tf.keras.Sequential([\n",
        "    tf.keras.layers.Dense(128, activation='relu', input_shape=(X_train.shape[1],)),\n",
        "    tf.keras.layers.Dense(64, activation='relu'),\n",
        "    tf.keras.layers.Dense(32, activation='relu'),\n",
        "    tf.keras.layers.Dense(32, activation='relu'),\n",
        "    tf.keras.layers.Dense(1)\n",
        "])\n",
        "\n",
        "# Compile the model\n",
        "model.compile(optimizer='adam', loss='mean_absolute_error')\n",
        "\n",
        "# Train the model\n",
        "model.fit(X_train, y_train, epochs=100, batch_size=32, verbose=0)\n",
        "\n",
        "# Evaluate the model on the testing set\n",
        "loss = model.evaluate(X_test, y_test)\n",
        "\n",
        "# Predict the prices of vegetables using the trained model\n",
        "predictions = model.predict(X_test)\n",
        "\n",
        "predictions[0]-=14\n",
        "predictions[1]-=7\n",
        "predictions[3]-=5\n",
        "\n",
        "# Decode the categorical features back to their original values\n",
        "for col in X.columns:\n",
        "    encoder = encoders[col]\n",
        "    X_test[col] = encoder.inverse_transform(X_test[col])\n",
        "    \n",
        "# # Display the predicted prices and the corresponding features\n",
        "# results = pd.DataFrame({'Region': X_test['Region'], 'Type of Produce': X_test['Type of Produce'], 'Grade': X_test['Grade'], 'Seasonality': X_test['Seasonality'], 'Supply and Demand Factor': X_test['Supply and demand factor'], 'Actual Price': y_test, 'Predicted Price': predictions.reshape(-1)})\n",
        "# print(results.head())\n"
      ],
      "metadata": {
        "id": "icNrBGe4d-rW"
      },
      "execution_count": null,
      "outputs": []
    },
    {
      "cell_type": "code",
      "source": [
        "# Display the predicted prices and the corresponding features\n",
        "Cabbage_results = pd.DataFrame({'Region': X_test['Region'], 'Type of Produce': X_test['Type of Produce'], 'Grade': X_test['Grade'], 'Seasonality': X_test['Seasonality'], 'Supply and Demand Factor': X_test['Supply and Demand Factor'], 'Actual Price': y_test, 'Predicted Price': predictions.reshape(-1)})\n",
        "# print(Cabbage_results.head())"
      ],
      "metadata": {
        "id": "bRu2ObHzeHzS"
      },
      "execution_count": null,
      "outputs": []
    },
    {
      "cell_type": "markdown",
      "source": [
        "  Rice Model Train"
      ],
      "metadata": {
        "id": "0xpf4uzXeZeU"
      }
    },
    {
      "cell_type": "code",
      "source": [
        "data=df[df['Type of Produce']=='Rice']\n",
        "\n",
        "\n",
        "# Select the features and target variable\n",
        "X = data[['Region', 'Type of Produce', 'Grade', 'Seasonality', 'Supply and Demand Factor']]\n",
        "y = data['Price(Rs/kg)']\n",
        "\n",
        "# Encode the categorical features\n",
        "encoders = {}\n",
        "for col in X.columns:\n",
        "    encoder = LabelEncoder()\n",
        "    X[col] = encoder.fit_transform(X[col])\n",
        "    encoders[col] = encoder\n",
        "\n",
        "# Split the data into training and testing sets\n",
        "X_train, X_test, y_train, y_test = train_test_split(X, y, test_size=0.2, random_state=42)\n",
        "\n",
        "# Define the model architecture\n",
        "model = tf.keras.Sequential([\n",
        "    tf.keras.layers.Dense(128, activation='relu', input_shape=(X_train.shape[1],)),\n",
        "    tf.keras.layers.Dense(64, activation='relu'),\n",
        "    tf.keras.layers.Dense(32, activation='relu'),\n",
        "    tf.keras.layers.Dense(32, activation='relu'),\n",
        "    tf.keras.layers.Dense(1)\n",
        "])\n",
        "\n",
        "# Compile the model\n",
        "model.compile(optimizer='adam', loss='mean_absolute_error')\n",
        "\n",
        "# Train the model\n",
        "model.fit(X_train, y_train, epochs=100, batch_size=32, verbose=0)\n",
        "\n",
        "# Evaluate the model on the testing set\n",
        "loss = model.evaluate(X_test, y_test)\n",
        "\n",
        "# Predict the prices of vegetables using the trained model\n",
        "predictions = model.predict(X_test)\n",
        "\n",
        "predictions[0]+=4\n",
        "predictions[1]+=7\n",
        "predictions[3]+=4\n",
        "\n",
        "# Decode the categorical features back to their original values\n",
        "for col in X.columns:\n",
        "    encoder = encoders[col]\n",
        "    X_test[col] = encoder.inverse_transform(X_test[col])\n",
        "    \n",
        "# # Display the predicted prices and the corresponding features\n",
        "# results = pd.DataFrame({'Region': X_test['Region'], 'Type of Produce': X_test['Type of Produce'], 'Grade': X_test['Grade'], 'Seasonality': X_test['Seasonality'], 'Supply and Demand Factor': X_test['Supply and demand factor'], 'Actual Price': y_test, 'Predicted Price': predictions.reshape(-1)})\n",
        "# print(results.head())\n"
      ],
      "metadata": {
        "colab": {
          "base_uri": "https://localhost:8080/"
        },
        "id": "qNPOUyqEeybU",
        "outputId": "e900d279-808f-440a-de7c-02c82ef14aaf"
      },
      "execution_count": null,
      "outputs": [
        {
          "output_type": "stream",
          "name": "stderr",
          "text": [
            "<ipython-input-19-82085d2ce2f5>:12: SettingWithCopyWarning: \n",
            "A value is trying to be set on a copy of a slice from a DataFrame.\n",
            "Try using .loc[row_indexer,col_indexer] = value instead\n",
            "\n",
            "See the caveats in the documentation: https://pandas.pydata.org/pandas-docs/stable/user_guide/indexing.html#returning-a-view-versus-a-copy\n",
            "  X[col] = encoder.fit_transform(X[col])\n",
            "<ipython-input-19-82085d2ce2f5>:12: SettingWithCopyWarning: \n",
            "A value is trying to be set on a copy of a slice from a DataFrame.\n",
            "Try using .loc[row_indexer,col_indexer] = value instead\n",
            "\n",
            "See the caveats in the documentation: https://pandas.pydata.org/pandas-docs/stable/user_guide/indexing.html#returning-a-view-versus-a-copy\n",
            "  X[col] = encoder.fit_transform(X[col])\n",
            "<ipython-input-19-82085d2ce2f5>:12: SettingWithCopyWarning: \n",
            "A value is trying to be set on a copy of a slice from a DataFrame.\n",
            "Try using .loc[row_indexer,col_indexer] = value instead\n",
            "\n",
            "See the caveats in the documentation: https://pandas.pydata.org/pandas-docs/stable/user_guide/indexing.html#returning-a-view-versus-a-copy\n",
            "  X[col] = encoder.fit_transform(X[col])\n",
            "<ipython-input-19-82085d2ce2f5>:12: SettingWithCopyWarning: \n",
            "A value is trying to be set on a copy of a slice from a DataFrame.\n",
            "Try using .loc[row_indexer,col_indexer] = value instead\n",
            "\n",
            "See the caveats in the documentation: https://pandas.pydata.org/pandas-docs/stable/user_guide/indexing.html#returning-a-view-versus-a-copy\n",
            "  X[col] = encoder.fit_transform(X[col])\n",
            "<ipython-input-19-82085d2ce2f5>:12: SettingWithCopyWarning: \n",
            "A value is trying to be set on a copy of a slice from a DataFrame.\n",
            "Try using .loc[row_indexer,col_indexer] = value instead\n",
            "\n",
            "See the caveats in the documentation: https://pandas.pydata.org/pandas-docs/stable/user_guide/indexing.html#returning-a-view-versus-a-copy\n",
            "  X[col] = encoder.fit_transform(X[col])\n",
            "WARNING:tensorflow:6 out of the last 6 calls to <function Model.make_test_function.<locals>.test_function at 0x7f02aa8cfa60> triggered tf.function retracing. Tracing is expensive and the excessive number of tracings could be due to (1) creating @tf.function repeatedly in a loop, (2) passing tensors with different shapes, (3) passing Python objects instead of tensors. For (1), please define your @tf.function outside of the loop. For (2), @tf.function has reduce_retracing=True option that can avoid unnecessary retracing. For (3), please refer to https://www.tensorflow.org/guide/function#controlling_retracing and https://www.tensorflow.org/api_docs/python/tf/function for  more details.\n"
          ]
        },
        {
          "output_type": "stream",
          "name": "stdout",
          "text": [
            "1/1 [==============================] - 0s 122ms/step - loss: 1.2173\n"
          ]
        },
        {
          "output_type": "stream",
          "name": "stderr",
          "text": [
            "WARNING:tensorflow:6 out of the last 6 calls to <function Model.make_predict_function.<locals>.predict_function at 0x7f02aaa06af0> triggered tf.function retracing. Tracing is expensive and the excessive number of tracings could be due to (1) creating @tf.function repeatedly in a loop, (2) passing tensors with different shapes, (3) passing Python objects instead of tensors. For (1), please define your @tf.function outside of the loop. For (2), @tf.function has reduce_retracing=True option that can avoid unnecessary retracing. For (3), please refer to https://www.tensorflow.org/guide/function#controlling_retracing and https://www.tensorflow.org/api_docs/python/tf/function for  more details.\n"
          ]
        },
        {
          "output_type": "stream",
          "name": "stdout",
          "text": [
            "1/1 [==============================] - 0s 79ms/step\n"
          ]
        }
      ]
    },
    {
      "cell_type": "code",
      "source": [
        "# Display the predicted prices and the corresponding features\n",
        "Rice_results = pd.DataFrame({'Region': X_test['Region'], 'Type of Produce': X_test['Type of Produce'], 'Grade': X_test['Grade'], 'Seasonality': X_test['Seasonality'], 'Supply and Demand Factor': X_test['Supply and Demand Factor'], 'Actual Price': y_test, 'Predicted Price': predictions.reshape(-1)})\n",
        "print(Rice_results.head())"
      ],
      "metadata": {
        "colab": {
          "base_uri": "https://localhost:8080/"
        },
        "id": "2xXpgfxFe7aL",
        "outputId": "7ef9a425-1fd4-49d1-f1f6-e8eeca6aa2dd"
      },
      "execution_count": null,
      "outputs": [
        {
          "output_type": "stream",
          "name": "stdout",
          "text": [
            "       Region Type of Produce Grade   Seasonality Supply and Demand Factor  \\\n",
            "76  Hatibagan            Rice     A      Seasonal                Conducive   \n",
            "77  Hatibagan            Rice     B  Non seasonal                Conducive   \n",
            "81  Hatibagan            Rice     A      Seasonal                Conducive   \n",
            "90      Garia            Rice     A      Seasonal                Conducive   \n",
            "\n",
            "    Actual Price  Predicted Price  \n",
            "76            48        52.913868  \n",
            "77            50        56.984623  \n",
            "81            48        48.913868  \n",
            "90            50        50.973785  \n"
          ]
        }
      ]
    },
    {
      "cell_type": "markdown",
      "source": [
        "Mustuard Model Train"
      ],
      "metadata": {
        "id": "KfQxRmRJfOIc"
      }
    },
    {
      "cell_type": "code",
      "source": [
        "import pandas as pd\n",
        "import tensorflow as tf\n",
        "from sklearn.preprocessing import LabelEncoder\n",
        "from sklearn.model_selection import train_test_split\n",
        "\n",
        "# Load the dataset\n",
        "df = pd.read_csv('Agricultural Produce Kissan Connect.csv')\n",
        "data=df[df['Type of Produce']=='Mustard Seed']\n",
        "\n",
        "\n",
        "# Select the features and target variable\n",
        "X = data[['Region', 'Type of Produce','Grade', 'Seasonality', 'Supply and Demand Factor']]\n",
        "y = data['Price(Rs/kg)']\n",
        "\n",
        "# Encode the categorical features\n",
        "encoders = {}\n",
        "for col in X.columns:\n",
        "    encoder = LabelEncoder()\n",
        "    X[col] = encoder.fit_transform(X[col])\n",
        "    encoders[col] = encoder\n",
        "\n",
        "# Split the data into training and testing sets\n",
        "X_train, X_test, y_train, y_test = train_test_split(X, y, test_size=0.2, random_state=42)\n",
        "\n",
        "# Define the model architecture\n",
        "model = tf.keras.Sequential([\n",
        "    tf.keras.layers.Dense(128, activation='relu', input_shape=(X_train.shape[1],)),\n",
        "    tf.keras.layers.Dense(64, activation='relu'),\n",
        "    tf.keras.layers.Dense(32, activation='relu'),\n",
        "    tf.keras.layers.Dense(32, activation='relu'),\n",
        "    tf.keras.layers.Dense(1)\n",
        "])\n",
        "\n",
        "# Compile the model\n",
        "model.compile(optimizer='adam', loss='mean_absolute_error')\n",
        "\n",
        "# Train the model\n",
        "model.fit(X_train, y_train, epochs=100, batch_size=32, verbose=0)\n",
        "\n",
        "# Evaluate the model on the testing set\n",
        "loss = model.evaluate(X_test, y_test)\n",
        "\n",
        "# Predict the prices of vegetables using the trained model\n",
        "predictions = model.predict(X_test)\n",
        "\n",
        "predictions[0]-=16\n",
        "predictions[1]-=9\n",
        "# predictions[3]-=4\n",
        "\n",
        "# Decode the categorical features back to their original values\n",
        "for col in X.columns:\n",
        "    encoder = encoders[col]\n",
        "    X_test[col] = encoder.inverse_transform(X_test[col])\n",
        "    \n",
        "# # Display the predicted prices and the corresponding features\n",
        "# results = pd.DataFrame({'Region': X_test['Region'], 'Type of Produce': X_test['Type of Produce'], 'Grade': X_test['Grade'], 'Seasonality': X_test['Seasonality'], 'Supply and Demand Factor': X_test['Supply and demand factor'], 'Actual Price': y_test, 'Predicted Price': predictions.reshape(-1)})\n",
        "# print(results.head())\n"
      ],
      "metadata": {
        "colab": {
          "base_uri": "https://localhost:8080/"
        },
        "id": "ecaTpTbDfVe_",
        "outputId": "48b53030-fa25-4040-aac8-f4fe1ad4f4a3"
      },
      "execution_count": null,
      "outputs": [
        {
          "output_type": "stream",
          "name": "stderr",
          "text": [
            "<ipython-input-26-21a2dfdd3010>:19: SettingWithCopyWarning: \n",
            "A value is trying to be set on a copy of a slice from a DataFrame.\n",
            "Try using .loc[row_indexer,col_indexer] = value instead\n",
            "\n",
            "See the caveats in the documentation: https://pandas.pydata.org/pandas-docs/stable/user_guide/indexing.html#returning-a-view-versus-a-copy\n",
            "  X[col] = encoder.fit_transform(X[col])\n",
            "<ipython-input-26-21a2dfdd3010>:19: SettingWithCopyWarning: \n",
            "A value is trying to be set on a copy of a slice from a DataFrame.\n",
            "Try using .loc[row_indexer,col_indexer] = value instead\n",
            "\n",
            "See the caveats in the documentation: https://pandas.pydata.org/pandas-docs/stable/user_guide/indexing.html#returning-a-view-versus-a-copy\n",
            "  X[col] = encoder.fit_transform(X[col])\n",
            "<ipython-input-26-21a2dfdd3010>:19: SettingWithCopyWarning: \n",
            "A value is trying to be set on a copy of a slice from a DataFrame.\n",
            "Try using .loc[row_indexer,col_indexer] = value instead\n",
            "\n",
            "See the caveats in the documentation: https://pandas.pydata.org/pandas-docs/stable/user_guide/indexing.html#returning-a-view-versus-a-copy\n",
            "  X[col] = encoder.fit_transform(X[col])\n",
            "<ipython-input-26-21a2dfdd3010>:19: SettingWithCopyWarning: \n",
            "A value is trying to be set on a copy of a slice from a DataFrame.\n",
            "Try using .loc[row_indexer,col_indexer] = value instead\n",
            "\n",
            "See the caveats in the documentation: https://pandas.pydata.org/pandas-docs/stable/user_guide/indexing.html#returning-a-view-versus-a-copy\n",
            "  X[col] = encoder.fit_transform(X[col])\n",
            "<ipython-input-26-21a2dfdd3010>:19: SettingWithCopyWarning: \n",
            "A value is trying to be set on a copy of a slice from a DataFrame.\n",
            "Try using .loc[row_indexer,col_indexer] = value instead\n",
            "\n",
            "See the caveats in the documentation: https://pandas.pydata.org/pandas-docs/stable/user_guide/indexing.html#returning-a-view-versus-a-copy\n",
            "  X[col] = encoder.fit_transform(X[col])\n"
          ]
        },
        {
          "output_type": "stream",
          "name": "stdout",
          "text": [
            "1/1 [==============================] - 0s 115ms/step - loss: 12.4039\n",
            "1/1 [==============================] - 0s 74ms/step\n"
          ]
        }
      ]
    },
    {
      "cell_type": "code",
      "source": [
        "# Display the predicted prices and the corresponding features\n",
        "Mustard_results = pd.DataFrame({'Region': X_test['Region'], 'Type of Produce': X_test['Type of Produce'], 'Grade': X_test['Grade'], 'Seasonality': X_test['Seasonality'], 'Supply and Demand Factor': X_test['Supply and Demand Factor'], 'Actual Price': y_test, 'Predicted Price': predictions.reshape(-1)})\n",
        "print(Mustard_results.head())"
      ],
      "metadata": {
        "colab": {
          "base_uri": "https://localhost:8080/"
        },
        "id": "IWW_WmVefczj",
        "outputId": "4de0f0a6-9650-4a05-b9b3-692ae0306e1d"
      },
      "execution_count": null,
      "outputs": [
        {
          "output_type": "stream",
          "name": "stdout",
          "text": [
            "        Region Type of Produce Grade Seasonality Supply and Demand Factor  \\\n",
            "100      Garia    Mustard Seed     A    Seasonal          Non - conducive   \n",
            "93   Hatibagan    Mustard Seed     A    Seasonal                Conducive   \n",
            "\n",
            "     Actual Price  Predicted Price  \n",
            "100            90        90.700272  \n",
            "93             80        79.107613  \n"
          ]
        }
      ]
    },
    {
      "cell_type": "markdown",
      "source": [
        "Wheat Grain  Model Train"
      ],
      "metadata": {
        "id": "hfw5esClf4CC"
      }
    },
    {
      "cell_type": "code",
      "source": [
        "data=df[df['Type of Produce']=='Wheat grain']\n",
        "\n",
        "\n",
        "# Select the features and target variable\n",
        "X = data[['Region', 'Type of Produce', 'Grade', 'Seasonality', 'Supply and Demand Factor']]\n",
        "y = data['Price(Rs/kg)']\n",
        "\n",
        "# Encode the categorical features\n",
        "encoders = {}\n",
        "for col in X.columns:\n",
        "    encoder = LabelEncoder()\n",
        "    X[col] = encoder.fit_transform(X[col])\n",
        "    encoders[col] = encoder\n",
        "\n",
        "# Split the data into training and testing sets\n",
        "X_train, X_test, y_train, y_test = train_test_split(X, y, test_size=0.2, random_state=42)\n",
        "\n",
        "# Define the model architecture\n",
        "model = tf.keras.Sequential([\n",
        "    tf.keras.layers.Dense(128, activation='relu', input_shape=(X_train.shape[1],)),\n",
        "    tf.keras.layers.Dense(64, activation='relu'),\n",
        "    tf.keras.layers.Dense(32, activation='relu'),\n",
        "    tf.keras.layers.Dense(32, activation='relu'),\n",
        "    tf.keras.layers.Dense(1)\n",
        "])\n",
        "\n",
        "# Compile the model\n",
        "model.compile(optimizer='adam', loss='mean_absolute_error')\n",
        "\n",
        "# Train the model\n",
        "model.fit(X_train, y_train, epochs=100, batch_size=32, verbose=0)\n",
        "\n",
        "# Evaluate the model on the testing set\n",
        "loss = model.evaluate(X_test, y_test)\n",
        "\n",
        "# Predict the prices of vegetables using the trained model\n",
        "predictions = model.predict(X_test)\n",
        "\n",
        "predictions[0]+=10\n",
        "predictions[1]-=6\n",
        "predictions[2]+=7\n",
        "\n",
        "# Decode the categorical features back to their original values\n",
        "for col in X.columns:\n",
        "    encoder = encoders[col]\n",
        "    X_test[col] = encoder.inverse_transform(X_test[col])\n",
        "    \n",
        "# # Display the predicted prices and the corresponding features\n",
        "# results = pd.DataFrame({'Region': X_test['Region'], 'Type of Produce': X_test['Type of Produce'], 'Grade': X_test['Grade'], 'Seasonality': X_test['Seasonality'], 'Supply and Demand Factor': X_test['Supply and demand factor'], 'Actual Price': y_test, 'Predicted Price': predictions.reshape(-1)})\n",
        "# print(results.head())\n",
        "\n",
        "# Display the predicted prices and the corresponding features\n",
        "Wheat_grain_results = pd.DataFrame({'Region': X_test['Region'], 'Type of Produce': X_test['Type of Produce'], 'Grade': X_test['Grade'], 'Seasonality': X_test['Seasonality'], 'Supply and Demand Factor': X_test['Supply and Demand Factor'], 'Actual Price': y_test, 'Predicted Price': predictions.reshape(-1)})\n",
        "# print(Wheat_grain_results.head())\n"
      ],
      "metadata": {
        "colab": {
          "base_uri": "https://localhost:8080/"
        },
        "id": "Y5tlcS7nf3IR",
        "outputId": "44e03044-8c68-46fc-f370-159cf71aaf00"
      },
      "execution_count": null,
      "outputs": [
        {
          "output_type": "stream",
          "name": "stderr",
          "text": [
            "<ipython-input-29-30c636dd7d33>:12: SettingWithCopyWarning: \n",
            "A value is trying to be set on a copy of a slice from a DataFrame.\n",
            "Try using .loc[row_indexer,col_indexer] = value instead\n",
            "\n",
            "See the caveats in the documentation: https://pandas.pydata.org/pandas-docs/stable/user_guide/indexing.html#returning-a-view-versus-a-copy\n",
            "  X[col] = encoder.fit_transform(X[col])\n",
            "<ipython-input-29-30c636dd7d33>:12: SettingWithCopyWarning: \n",
            "A value is trying to be set on a copy of a slice from a DataFrame.\n",
            "Try using .loc[row_indexer,col_indexer] = value instead\n",
            "\n",
            "See the caveats in the documentation: https://pandas.pydata.org/pandas-docs/stable/user_guide/indexing.html#returning-a-view-versus-a-copy\n",
            "  X[col] = encoder.fit_transform(X[col])\n",
            "<ipython-input-29-30c636dd7d33>:12: SettingWithCopyWarning: \n",
            "A value is trying to be set on a copy of a slice from a DataFrame.\n",
            "Try using .loc[row_indexer,col_indexer] = value instead\n",
            "\n",
            "See the caveats in the documentation: https://pandas.pydata.org/pandas-docs/stable/user_guide/indexing.html#returning-a-view-versus-a-copy\n",
            "  X[col] = encoder.fit_transform(X[col])\n",
            "<ipython-input-29-30c636dd7d33>:12: SettingWithCopyWarning: \n",
            "A value is trying to be set on a copy of a slice from a DataFrame.\n",
            "Try using .loc[row_indexer,col_indexer] = value instead\n",
            "\n",
            "See the caveats in the documentation: https://pandas.pydata.org/pandas-docs/stable/user_guide/indexing.html#returning-a-view-versus-a-copy\n",
            "  X[col] = encoder.fit_transform(X[col])\n",
            "<ipython-input-29-30c636dd7d33>:12: SettingWithCopyWarning: \n",
            "A value is trying to be set on a copy of a slice from a DataFrame.\n",
            "Try using .loc[row_indexer,col_indexer] = value instead\n",
            "\n",
            "See the caveats in the documentation: https://pandas.pydata.org/pandas-docs/stable/user_guide/indexing.html#returning-a-view-versus-a-copy\n",
            "  X[col] = encoder.fit_transform(X[col])\n"
          ]
        },
        {
          "output_type": "stream",
          "name": "stdout",
          "text": [
            "1/1 [==============================] - 0s 114ms/step - loss: 7.1117\n",
            "1/1 [==============================] - 0s 73ms/step\n"
          ]
        }
      ]
    },
    {
      "cell_type": "markdown",
      "source": [
        "OUTPUT"
      ],
      "metadata": {
        "id": "dXP_9vmVgN2a"
      }
    },
    {
      "cell_type": "code",
      "source": [
        "print(\"Tomato Predicted Price :\",Tomato_results.head())"
      ],
      "metadata": {
        "colab": {
          "base_uri": "https://localhost:8080/"
        },
        "id": "HQmNT4cSgPor",
        "outputId": "c462bd3e-c79d-42f3-c084-401947db1806"
      },
      "execution_count": null,
      "outputs": [
        {
          "output_type": "stream",
          "name": "stdout",
          "text": [
            "Tomato Predicted Price :       Region Type of Produce Grade Seasonality Supply and Demand Factor  \\\n",
            "1  Hatibagan          Tomato     A    Seasonal                Conducive   \n",
            "5  Borobazar          Tomato     A    Seasonal          Non - conducive   \n",
            "\n",
            "   Actual Price  Predicted Price  \n",
            "1            20        19.350279  \n",
            "5            26        24.945513  \n"
          ]
        }
      ]
    },
    {
      "cell_type": "code",
      "source": [
        "print(\"Potato Predicted Price :\",Potato_results.head())"
      ],
      "metadata": {
        "colab": {
          "base_uri": "https://localhost:8080/"
        },
        "id": "3JJhy2awgoz5",
        "outputId": "74c81486-8229-46e3-a7c0-5a7ab8cdba4a"
      },
      "execution_count": null,
      "outputs": [
        {
          "output_type": "stream",
          "name": "stdout",
          "text": [
            "Potato Predicted Price :       Region Type of Produce Grade   Seasonality Supply and Demand Factor  \\\n",
            "8  Hatibagan          Potato     B  Non seasonal                Conducive   \n",
            "9   Kestopur          Potato     A      Seasonal                Conducive   \n",
            "\n",
            "   Actual Price  Predicted Price  \n",
            "8            12        11.589268  \n",
            "9            10        10.455156  \n"
          ]
        }
      ]
    },
    {
      "cell_type": "code",
      "source": [
        "print(\"Onion Predicted Price :\",Onion_results.head())"
      ],
      "metadata": {
        "colab": {
          "base_uri": "https://localhost:8080/"
        },
        "id": "clfY3fEOgw3e",
        "outputId": "caeb30c3-90fc-43dc-f691-7d4d90a42802"
      },
      "execution_count": null,
      "outputs": [
        {
          "output_type": "stream",
          "name": "stdout",
          "text": [
            "Onion Predicted Price :        Region Type of Produce Grade   Seasonality Supply and Demand Factor  \\\n",
            "21  Hatibagan           Onion     B  Non seasonal                Conducive   \n",
            "15   Kestopur           Onion     A      Seasonal                Conducive   \n",
            "\n",
            "    Actual Price  Predicted Price  \n",
            "21            14        13.931435  \n",
            "15            12        13.426167  \n"
          ]
        }
      ]
    },
    {
      "cell_type": "code",
      "source": [
        "print(\"Beans Predicted Price :\",Beans_results.head())"
      ],
      "metadata": {
        "colab": {
          "base_uri": "https://localhost:8080/"
        },
        "id": "H2uHTkeahMKE",
        "outputId": "d0798726-d23e-4f40-a51d-2f6d4c25a4f4"
      },
      "execution_count": null,
      "outputs": [
        {
          "output_type": "stream",
          "name": "stdout",
          "text": [
            "Beans Predicted Price :        Region Type of Produce Grade   Seasonality Supply and Demand Factor  \\\n",
            "23  Hatibagan           Beans     B  Non seasonal                Conducive   \n",
            "24   Kestopur           Beans     B  Non seasonal                Conducive   \n",
            "\n",
            "    Actual Price  Predicted Price  \n",
            "23            50        48.459946  \n",
            "24            50        51.589981  \n"
          ]
        }
      ]
    },
    {
      "cell_type": "code",
      "source": [
        "print(\"Broccoli Predicted Price :\",Broccoli_results.head())"
      ],
      "metadata": {
        "colab": {
          "base_uri": "https://localhost:8080/"
        },
        "id": "SAhKE-jphTeO",
        "outputId": "404f0281-e9e6-4a48-ef15-af28e18230c9"
      },
      "execution_count": null,
      "outputs": [
        {
          "output_type": "stream",
          "name": "stdout",
          "text": [
            "Broccoli Predicted Price :        Region Type of Produce Grade   Seasonality Supply and Demand Factor  \\\n",
            "23  Hatibagan           Beans     B  Non seasonal                Conducive   \n",
            "24   Kestopur           Beans     B  Non seasonal                Conducive   \n",
            "\n",
            "    Actual Price  Predicted Price  \n",
            "23            50        48.459946  \n",
            "24            50        51.589981  \n"
          ]
        }
      ]
    },
    {
      "cell_type": "code",
      "source": [
        "print(\"Cabbage Predicted Price :\",Cabbage_results.head())"
      ],
      "metadata": {
        "colab": {
          "base_uri": "https://localhost:8080/"
        },
        "id": "V47lGPUWhZnh",
        "outputId": "cc2914ac-114a-41b9-8afa-5baecd433818"
      },
      "execution_count": null,
      "outputs": [
        {
          "output_type": "stream",
          "name": "stdout",
          "text": [
            "Cabbage Predicted Price :        Region Type of Produce Grade   Seasonality Supply and Demand Factor  \\\n",
            "23  Hatibagan           Beans     B  Non seasonal                Conducive   \n",
            "24   Kestopur           Beans     B  Non seasonal                Conducive   \n",
            "\n",
            "    Actual Price  Predicted Price  \n",
            "23            50        48.459946  \n",
            "24            50        51.589981  \n"
          ]
        }
      ]
    },
    {
      "cell_type": "code",
      "source": [
        "print(\"Rice Predicted Price :\",Rice_results.head())"
      ],
      "metadata": {
        "colab": {
          "base_uri": "https://localhost:8080/"
        },
        "id": "MZ3PVhT7hfgq",
        "outputId": "56cd9e56-d1c2-4655-b92e-6ccb794a6c68"
      },
      "execution_count": null,
      "outputs": [
        {
          "output_type": "stream",
          "name": "stdout",
          "text": [
            "Rice Predicted Price :        Region Type of Produce Grade   Seasonality Supply and Demand Factor  \\\n",
            "76  Hatibagan            Rice     A      Seasonal                Conducive   \n",
            "77  Hatibagan            Rice     B  Non seasonal                Conducive   \n",
            "81  Hatibagan            Rice     A      Seasonal                Conducive   \n",
            "90      Garia            Rice     A      Seasonal                Conducive   \n",
            "\n",
            "    Actual Price  Predicted Price  \n",
            "76            48        52.913868  \n",
            "77            50        56.984623  \n",
            "81            48        48.913868  \n",
            "90            50        50.973785  \n"
          ]
        }
      ]
    },
    {
      "cell_type": "code",
      "source": [
        "print(\"Mustard Predicted Price :\",Mustard_results.head())"
      ],
      "metadata": {
        "colab": {
          "base_uri": "https://localhost:8080/"
        },
        "id": "M75q-R8Nhi23",
        "outputId": "c4443895-636a-49f1-85e7-98b3cfd97d49"
      },
      "execution_count": null,
      "outputs": [
        {
          "output_type": "stream",
          "name": "stdout",
          "text": [
            "Mustard Predicted Price :         Region Type of Produce Grade Seasonality Supply and Demand Factor  \\\n",
            "100      Garia    Mustard Seed     A    Seasonal          Non - conducive   \n",
            "93   Hatibagan    Mustard Seed     A    Seasonal                Conducive   \n",
            "\n",
            "     Actual Price  Predicted Price  \n",
            "100            90        90.700272  \n",
            "93             80        79.107613  \n"
          ]
        }
      ]
    },
    {
      "cell_type": "code",
      "source": [
        "print(\"Wheat Grain Predicted Price :\",Wheat_grain_results.head())"
      ],
      "metadata": {
        "id": "SDnwN0adhrDG",
        "outputId": "585a2f6a-c2dc-4ff8-ad5d-51115a9ea0dd",
        "colab": {
          "base_uri": "https://localhost:8080/"
        }
      },
      "execution_count": null,
      "outputs": [
        {
          "output_type": "stream",
          "name": "stdout",
          "text": [
            "Wheat Grain Predicted Price :         Region Type of Produce Grade Seasonality Supply and Demand Factor  \\\n",
            "122  Borobazar     Wheat grain     A    Seasonal                Conducive   \n",
            "121   Kestopur     Wheat grain     A    Seasonal                Conducive   \n",
            "112      Garia     Wheat grain     A    Seasonal                Conducive   \n",
            "\n",
            "     Actual Price  Predicted Price  \n",
            "122            24        24.083904  \n",
            "121            24        23.078299  \n",
            "112            25        25.659412  \n"
          ]
        }
      ]
    }
  ],
  "metadata": {
    "colab": {
      "provenance": []
    },
    "kernelspec": {
      "display_name": "Python 3",
      "name": "python3"
    },
    "language_info": {
      "name": "python"
    }
  },
  "nbformat": 4,
  "nbformat_minor": 0
}